{
 "cells": [
  {
   "cell_type": "code",
   "execution_count": null,
   "id": "f2ec68b1",
   "metadata": {},
   "outputs": [],
   "source": [
    "from math import sqrt\n",
    "x = (2.468/((3.69/(sqrt(10**3)))**(1/3)))**(1/5)\n",
    "y = 25/(125/((6.99)/(300000**2))**(1/9))\n",
    "z = (x**2 + y**2) / (1 - ((x**2 - y**2) / 2))\n",
    "print(z)"
   ]
  },
  {
   "cell_type": "code",
   "execution_count": null,
   "id": "b7323a4e",
   "metadata": {},
   "outputs": [],
   "source": [
    "amount = int(input(\"Введите количество имеющихся копеек: \"))\n",
    "rubles = amount // 100\n",
    "amount %= 100\n",
    "grivnas = amount // 10\n",
    "amount %= 10\n",
    "altyns = amount // 3\n",
    "amount %= 3\n",
    "polushkas = int(amount // 0.25)\n",
    "print(\"Количество рублей:\", rubles)\n",
    "print(\"Количество гривен:\", grivnas)\n",
    "print(\"Количество алтынов:\", altyns)\n",
    "print(\"Количество полушек:\", polushkas)"
   ]
  },
  {
   "cell_type": "code",
   "execution_count": null,
   "id": "44b1d35d",
   "metadata": {},
   "outputs": [],
   "source": [
    "a = float(input(\"Введите число a: \"))\n",
    "b = float(input(\"Введите число b: \"))\n",
    "c = float(input(\"Введите число c: \"))\n",
    "d = float(input(\"Введите число d: \"))\n",
    "e = float(input(\"Введите число e: \"))\n",
    "\n",
    "min_num = a\n",
    "min_index = 1\n",
    "\n",
    "if b < min_num:\n",
    "    min_num = b\n",
    "    min_index = 2\n",
    "\n",
    "if c < min_num:\n",
    "    min_num = c\n",
    "    min_index = 3\n",
    "\n",
    "if d < min_num:\n",
    "    min_num = d\n",
    "    min_index = 4\n",
    "\n",
    "if e < min_num:\n",
    "    min_num = e\n",
    "    min_index = 5\n",
    "\n",
    "print(\"Минимальное число:\", min_num)\n",
    "print(\"Номер минимального числа:\", min_index)"
   ]
  },
  {
   "cell_type": "code",
   "execution_count": null,
   "id": "9a072e29",
   "metadata": {},
   "outputs": [],
   "source": [
    "n = int(input(\"Введите число n: \"))\n",
    "\n",
    "s = 0\n",
    "for i in range(1, 2*n, 2):\n",
    "    s += i\n",
    "\n",
    "print(\"Сумма нечетных чисел от 1 до\", 2*n-1, \"равна\", s)"
   ]
  },
  {
   "cell_type": "markdown",
   "id": "f44a3df5",
   "metadata": {},
   "source": []
  },
  {
   "cell_type": "code",
   "execution_count": null,
   "id": "55177f6a",
   "metadata": {},
   "outputs": [],
   "source": [
    "for num in range(100, 1000):\n",
    "    square = num ** 2\n",
    "    if str(square)[-3:] == str(num):\n",
    "        print(num)"
   ]
  },
  {
   "cell_type": "code",
   "execution_count": null,
   "id": "f806aa89",
   "metadata": {},
   "outputs": [],
   "source": [
    "import random\n",
    "\n",
    "n = int(input(\"Введите число n: \"))\n",
    "r = float(input(\"Введите радиус r: \"))\n",
    "diameters = [random.uniform(0.5, 10) for _ in range(n)]\n",
    "\n",
    "not_fit = []\n",
    "for i, d in enumerate(diameters):\n",
    "    if d <= 2 * r:\n",
    "        not_fit.append(i+1)\n",
    "\n",
    "print(not_fit)\n"
   ]
  },
  {
   "cell_type": "code",
   "execution_count": null,
   "id": "de14e057",
   "metadata": {},
   "outputs": [],
   "source": [
    "n = int(input(\"Введите количество учеников в классе: \"))\n",
    "m = int(input(\"Введите количество лабораторных работ: \"))\n",
    "\n",
    "grades = []\n",
    "for i in range(n):\n",
    "    row = []\n",
    "    for j in range(m):\n",
    "        grade = int(input(f\"Введите оценку {i+1}-го ученика за {j+1}-ю лабораторную работу: \"))\n",
    "        row.append(grade)\n",
    "    grades.append(row)\n",
    "\n",
    "count = 0\n",
    "for i in range(n):\n",
    "    completed = sum(grades[i])\n",
    "    if completed == m:\n",
    "        count += 1\n",
    "\n",
    "percentage = (count / n) * 100\n",
    "print(f\"Наиболее близки к завершению всех лабораторных работ {percentage:.2f}% учеников класса.\")\n"
   ]
  },
  {
   "cell_type": "markdown",
   "id": "851e6b28",
   "metadata": {},
   "source": []
  },
  {
   "cell_type": "code",
   "execution_count": null,
   "id": "4f160995",
   "metadata": {},
   "outputs": [],
   "source": [
    "string = \"hello world, world is beautiful world\"\n",
    "substring = \"world\"\n",
    "\n",
    "last_index = string.rfind(substring)\n",
    "if last_index == -1:\n",
    "    print(\"Substring not found\")\n",
    "else:\n",
    "    print(f\"Last index of '{substring}' is {last_index}\")"
   ]
  },
  {
   "cell_type": "code",
   "execution_count": null,
   "id": "8e4ac9a9",
   "metadata": {},
   "outputs": [],
   "source": [
    "def triangle_area(x1, y1, x2, y2, x3, y3):\n",
    "    return abs((x1*(y2-y3)+x2*(y3-y1)+x3*(y1-y2))/2)\n",
    "\n",
    "area = triangle_area(1, 1, 2, 3, 4, 2)\n",
    "\n",
    "print(\"Площадь треугольника равна\", area)"
   ]
  },
  {
   "cell_type": "code",
   "execution_count": null,
   "id": "2648466e",
   "metadata": {},
   "outputs": [],
   "source": [
    "num = int(input(\"Введите число: \"))\n",
    "digits = list(str(num))\n",
    "digits.sort(reverse=True) \n",
    "print(\"Цифры числа в убывающем порядке: \", end=\"\")\n",
    "for digit in digits:\n",
    "    print(digit, end=\" \")"
   ]
  },
  {
   "cell_type": "code",
   "execution_count": null,
   "id": "e332063d",
   "metadata": {},
   "outputs": [],
   "source": [
    "with open('file.csv', 'r') as f:\n",
    "    lines = f.readlines()\n",
    "    print(\"Прямой порядок:\")\n",
    "    for line in lines:\n",
    "        num, name, cost = line.strip().split(',')\n",
    "        print(f\"{num}. {name} - {cost}\")\n",
    "\n",
    "    print(\"\\nОбратный порядок:\")\n",
    "    for line in reversed(lines):\n",
    "        num, name, cost = line.strip().split(',')\n",
    "        print(f\"{cost}. {name} - {num}\")\n"
   ]
  },
  {
   "cell_type": "code",
   "execution_count": null,
   "id": "2957dda0",
   "metadata": {},
   "outputs": [],
   "source": []
  },
  {
   "cell_type": "code",
   "execution_count": null,
   "id": "4ddd4cf0",
   "metadata": {},
   "outputs": [],
   "source": []
  }
 ],
 "metadata": {
  "kernelspec": {
   "display_name": "Python 3 (ipykernel)",
   "language": "python",
   "name": "python3"
  },
  "language_info": {
   "codemirror_mode": {
    "name": "ipython",
    "version": 3
   },
   "file_extension": ".py",
   "mimetype": "text/x-python",
   "name": "python",
   "nbconvert_exporter": "python",
   "pygments_lexer": "ipython3",
   "version": "3.9.16"
  }
 },
 "nbformat": 4,
 "nbformat_minor": 5
}
