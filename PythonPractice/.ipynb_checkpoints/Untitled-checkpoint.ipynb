{
 "cells": [
  {
   "cell_type": "code",
   "execution_count": 90,
   "id": "db47af3e",
   "metadata": {},
   "outputs": [
    {
     "name": "stdout",
     "output_type": "stream",
     "text": [
      "43.00373077687011\n"
     ]
    }
   ],
   "source": [
    "from math import sqrt\n",
    "x = (2.468/((3.69/(sqrt(10**3)))**(1/3)))**(1/5)\n",
    "y = 25/(125/((6.99)/(300000**2))**(1/9))\n",
    "z = (x**2 + y**2) / (1 - ((x**2 - y**2) / 2))\n",
    "print(z)"
   ]
  },
  {
   "cell_type": "code",
   "execution_count": 91,
   "id": "28aeb2fe",
   "metadata": {},
   "outputs": [
    {
     "name": "stdout",
     "output_type": "stream",
     "text": [
      "Введите количество имеющихся копеек: 2\n",
      "Количество рублей: 0\n",
      "Количество гривен: 0\n",
      "Количество алтынов: 0\n",
      "Количество полушек: 8\n"
     ]
    }
   ],
   "source": [
    "amount = int(input(\"Введите количество имеющихся копеек: \"))\n",
    "rubles = amount // 100\n",
    "amount %= 100\n",
    "grivnas = amount // 10\n",
    "amount %= 10\n",
    "altyns = amount // 3\n",
    "amount %= 3\n",
    "polushkas = int(amount // 0.25)\n",
    "print(\"Количество рублей:\", rubles)\n",
    "print(\"Количество гривен:\", grivnas)\n",
    "print(\"Количество алтынов:\", altyns)\n",
    "print(\"Количество полушек:\", polushkas)"
   ]
  },
  {
   "cell_type": "code",
   "execution_count": 100,
   "id": "f61e2037",
   "metadata": {},
   "outputs": [
    {
     "name": "stdout",
     "output_type": "stream",
     "text": [
      "Введите число a: 22\n",
      "Введите число b: 2\n",
      "Введите число c: 2\n",
      "Введите число d: 2\n",
      "Введите число e: 2\n",
      "Минимальное число: 2.0\n",
      "Номер минимального числа: 2\n"
     ]
    }
   ],
   "source": [
    "a = float(input(\"Введите число a: \"))\n",
    "b = float(input(\"Введите число b: \"))\n",
    "c = float(input(\"Введите число c: \"))\n",
    "d = float(input(\"Введите число d: \"))\n",
    "e = float(input(\"Введите число e: \"))\n",
    "\n",
    "min_num = a\n",
    "min_index = 1\n",
    "\n",
    "if b < min_num:\n",
    "    min_num = b\n",
    "    min_index = 2\n",
    "\n",
    "if c < min_num:\n",
    "    min_num = c\n",
    "    min_index = 3\n",
    "\n",
    "if d < min_num:\n",
    "    min_num = d\n",
    "    min_index = 4\n",
    "\n",
    "if e < min_num:\n",
    "    min_num = e\n",
    "    min_index = 5\n",
    "\n",
    "print(\"Минимальное число:\", min_num)\n",
    "print(\"Номер минимального числа:\", min_index)"
   ]
  },
  {
   "cell_type": "code",
   "execution_count": null,
   "id": "848bc236",
   "metadata": {},
   "outputs": [],
   "source": [
    "n = int(input(\"Введите число n: \"))\n",
    "\n",
    "s = 0\n",
    "for i in range(1, 2*n, 2):\n",
    "    s += i\n",
    "\n",
    "print(\"Сумма нечетных чисел от 1 до\", 2*n-1, \"равна\", s)"
   ]
  },
  {
   "cell_type": "markdown",
   "id": "96f3f06f",
   "metadata": {},
   "source": []
  },
  {
   "cell_type": "code",
   "execution_count": 94,
   "id": "bdc3a182",
   "metadata": {},
   "outputs": [
    {
     "name": "stdout",
     "output_type": "stream",
     "text": [
      "376\n",
      "625\n"
     ]
    }
   ],
   "source": [
    "for num in range(100, 1000):\n",
    "    square = num ** 2\n",
    "    if str(square)[-3:] == str(num):\n",
    "        print(num)"
   ]
  },
  {
   "cell_type": "code",
   "execution_count": 95,
   "id": "4d386196",
   "metadata": {},
   "outputs": [
    {
     "name": "stdout",
     "output_type": "stream",
     "text": [
      "Введите число n: 2\n",
      "Введите радиус r: 2\n",
      "[1]\n"
     ]
    }
   ],
   "source": [
    "import random\n",
    "\n",
    "n = int(input(\"Введите число n: \"))\n",
    "r = float(input(\"Введите радиус r: \"))\n",
    "diameters = [random.uniform(0.5, 10) for _ in range(n)]\n",
    "\n",
    "not_fit = []\n",
    "for i, d in enumerate(diameters):\n",
    "    if d <= 2 * r:\n",
    "        not_fit.append(i+1)\n",
    "\n",
    "print(not_fit)\n"
   ]
  },
  {
   "cell_type": "code",
   "execution_count": 2,
   "id": "d86950bf",
   "metadata": {},
   "outputs": [
    {
     "name": "stdout",
     "output_type": "stream",
     "text": [
      "Введите количество учеников в классе: 2\n",
      "Введите количество лабораторных работ: 2\n",
      "Введите оценку 1-го ученика за 1-ю лабораторную работу: 1\n",
      "Введите оценку 1-го ученика за 2-ю лабораторную работу: 0\n",
      "Введите оценку 2-го ученика за 1-ю лабораторную работу: 1\n",
      "Введите оценку 2-го ученика за 2-ю лабораторную работу: 1\n",
      "Наиболее близки к завершению всех лабораторных работ 50.00% учеников класса.\n"
     ]
    }
   ],
   "source": [
    "n = int(input(\"Введите количество учеников в классе: \"))\n",
    "m = int(input(\"Введите количество лабораторных работ: \"))\n",
    "\n",
    "grades = []\n",
    "for i in range(n):\n",
    "    row = []\n",
    "    for j in range(m):\n",
    "        grade = int(input(f\"Введите оценку {i+1}-го ученика за {j+1}-ю лабораторную работу: \"))\n",
    "        row.append(grade)\n",
    "    grades.append(row)\n",
    "\n",
    "count = 0\n",
    "for i in range(n):\n",
    "    completed = sum(grades[i])\n",
    "    if completed == m:\n",
    "        count += 1\n",
    "\n",
    "percentage = (count / n) * 100\n",
    "print(f\"Наиболее близки к завершению всех лабораторных работ {percentage:.2f}% учеников класса.\")\n"
   ]
  },
  {
   "cell_type": "markdown",
   "id": "ac80347c",
   "metadata": {},
   "source": []
  },
  {
   "cell_type": "code",
   "execution_count": 7,
   "id": "76ac8cd2",
   "metadata": {},
   "outputs": [
    {
     "name": "stdout",
     "output_type": "stream",
     "text": [
      "Last index of 'world' is 32\n"
     ]
    }
   ],
   "source": [
    "string = \"hello world, world is beautiful world\"\n",
    "substring = \"world\"\n",
    "\n",
    "last_index = string.rfind(substring)\n",
    "if last_index == -1:\n",
    "    print(\"Substring not found\")\n",
    "else:\n",
    "    print(f\"Last index of '{substring}' is {last_index}\")"
   ]
  },
  {
   "cell_type": "code",
   "execution_count": 13,
   "id": "59dc0e0b",
   "metadata": {},
   "outputs": [
    {
     "name": "stdout",
     "output_type": "stream",
     "text": [
      "Площадь треугольника равна 2.5\n"
     ]
    }
   ],
   "source": [
    "def triangle_area(x1, y1, x2, y2, x3, y3):\n",
    "    return abs((x1*(y2-y3)+x2*(y3-y1)+x3*(y1-y2))/2)\n",
    "\n",
    "area = triangle_area(1, 1, 2, 3, 4, 2)\n",
    "\n",
    "print(\"Площадь треугольника равна\", area)"
   ]
  },
  {
   "cell_type": "code",
   "execution_count": 14,
   "id": "a9a15b50",
   "metadata": {},
   "outputs": [
    {
     "name": "stdout",
     "output_type": "stream",
     "text": [
      "Введите число: 54213\n",
      "Цифры числа в убывающем порядке: 5 4 3 2 1 "
     ]
    }
   ],
   "source": [
    "num = int(input(\"Введите число: \"))\n",
    "digits = list(str(num))\n",
    "digits.sort(reverse=True) \n",
    "print(\"Цифры числа в убывающем порядке: \", end=\"\")\n",
    "for digit in digits:\n",
    "    print(digit, end=\" \")"
   ]
  },
  {
   "cell_type": "code",
   "execution_count": 30,
   "id": "c4f8bf94",
   "metadata": {},
   "outputs": [
    {
     "name": "stdout",
     "output_type": "stream",
     "text": [
      "Прямой порядок:\n",
      "1. apple - 10$\n",
      "\n",
      "Обратный порядок:\n",
      "10$. apple - 1\n"
     ]
    }
   ],
   "source": [
    "with open('file.csv', 'r') as f:\n",
    "    lines = f.readlines()\n",
    "    print(\"Прямой порядок:\")\n",
    "    for line in lines:\n",
    "        num, name, cost = line.strip().split(',')\n",
    "        print(f\"{num}. {name} - {cost}\")\n",
    "\n",
    "    print(\"\\nОбратный порядок:\")\n",
    "    for line in reversed(lines):\n",
    "        num, name, cost = line.strip().split(',')\n",
    "        print(f\"{cost}. {name} - {num}\")\n"
   ]
  },
  {
   "cell_type": "code",
   "execution_count": null,
   "id": "48ad5f08",
   "metadata": {},
   "outputs": [],
   "source": []
  },
  {
   "cell_type": "code",
   "execution_count": null,
   "id": "ee392e53",
   "metadata": {},
   "outputs": [],
   "source": []
  }
 ],
 "metadata": {
  "kernelspec": {
   "display_name": "Python 3 (ipykernel)",
   "language": "python",
   "name": "python3"
  },
  "language_info": {
   "codemirror_mode": {
    "name": "ipython",
    "version": 3
   },
   "file_extension": ".py",
   "mimetype": "text/x-python",
   "name": "python",
   "nbconvert_exporter": "python",
   "pygments_lexer": "ipython3",
   "version": "3.9.16"
  }
 },
 "nbformat": 4,
 "nbformat_minor": 5
}
