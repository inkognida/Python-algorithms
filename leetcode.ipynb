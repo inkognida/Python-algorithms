{
 "cells": [
  {
   "cell_type": "code",
   "execution_count": 5,
   "id": "d090f10c",
   "metadata": {},
   "outputs": [
    {
     "name": "stdout",
     "output_type": "stream",
     "text": [
      "with arg [1, 2, 123]\n",
      "without arg: [123]\n"
     ]
    }
   ],
   "source": [
    "def add(some_list: list = []):\n",
    "    some_list.append(123)\n",
    "    return some_list\n",
    "\n",
    "a = [1, 2]\n",
    "print(\"with arg\", add(a))\n",
    "print(\"without arg:\", add())"
   ]
  },
  {
   "cell_type": "code",
   "execution_count": 14,
   "id": "7af66625",
   "metadata": {},
   "outputs": [
    {
     "name": "stdout",
     "output_type": "stream",
     "text": [
      "(1, 2, 2, 3, 23, 2, 32, 3, 2) {'kw1': 'hello', 'kw2': 'world'}\n"
     ]
    }
   ],
   "source": [
    "def args_kwargs(*args, **kwargs):\n",
    "    print(args, kwargs)\n",
    "    return None\n",
    "\n",
    "a = args_kwargs(1,2,2,3,23,2,32,3,2, kw1=\"hello\", kw2=\"world\")"
   ]
  },
  {
   "cell_type": "code",
   "execution_count": 22,
   "id": "3ac7445a",
   "metadata": {},
   "outputs": [
    {
     "name": "stdout",
     "output_type": "stream",
     "text": [
      "1 @\n"
     ]
    }
   ],
   "source": [
    "def intstr(a: int = 0, b: str = \"$\"):\n",
    "    print(a, b)\n",
    "    return None\n",
    "\n",
    "intstr(1, \"@\")\n"
   ]
  },
  {
   "cell_type": "code",
   "execution_count": 35,
   "id": "725479a6",
   "metadata": {},
   "outputs": [
    {
     "data": {
      "text/plain": [
       "True"
      ]
     },
     "execution_count": 35,
     "metadata": {},
     "output_type": "execute_result"
    }
   ],
   "source": [
    "list(filter(lambda x: x % 2 == 0, [1, 2, 3, 4]))\n",
    "(lambda x,y: x + y)(1,2)\n",
    "True if 2 % 2 == 0 else False\n"
   ]
  },
  {
   "cell_type": "code",
   "execution_count": 70,
   "id": "e7a0f3d1",
   "metadata": {},
   "outputs": [
    {
     "name": "stdout",
     "output_type": "stream",
     "text": [
      "A\n",
      "Hello\n",
      "B\n",
      "A\n",
      "World\n",
      "B\n"
     ]
    }
   ],
   "source": [
    "def decorator(function_to_decorate):\n",
    "    def wrapper():\n",
    "        print(\"A\")\n",
    "        function_to_decorate()\n",
    "        print(\"B\")\n",
    "    return wrapper\n",
    "\n",
    "@decorator\n",
    "def hello_func():\n",
    "    print(\"Hello\")\n",
    "    \n",
    "@decorator\n",
    "def hello_func_extra():\n",
    "    print(\"World\")\n",
    "    \n",
    "hello_func()\n",
    "hello_func_extra()\n",
    "    \n"
   ]
  },
  {
   "cell_type": "code",
   "execution_count": 75,
   "id": "5014c487",
   "metadata": {},
   "outputs": [
    {
     "name": "stdout",
     "output_type": "stream",
     "text": [
      "() {}\n",
      "(1, 2, 3) {}\n",
      "1 2 3\n"
     ]
    }
   ],
   "source": [
    "def decorator_args(function_to_decorate):\n",
    "    def wrapper_args(*args, **kwargs):\n",
    "        print(args, kwargs)\n",
    "        function_to_decorate(*args, **kwargs)\n",
    "    return a_wrapper_accepting_arbitrary_arguments\n",
    " \n",
    "@a_decorator_passing_arbitrary_arguments\n",
    "def function_with_no_argument():\n",
    "   pass\n",
    " \n",
    "function_with_no_argument()\n",
    "\n",
    "@a_decorator_passing_arbitrary_arguments\n",
    "def function_with_arguments(a, b, c):\n",
    "    print(a, b, c)\n",
    " \n",
    "function_with_arguments(1,2,3)"
   ]
  },
  {
   "cell_type": "code",
   "execution_count": 77,
   "id": "344a11c4",
   "metadata": {},
   "outputs": [
    {
     "name": "stdout",
     "output_type": "stream",
     "text": [
      "0 hi\n",
      "1 there\n",
      "2 yep\n"
     ]
    }
   ],
   "source": [
    "a = [\"hi\", \"there\", \"yep\"]\n",
    "for i in range(len(a)):\n",
    "    print(i, a[i])"
   ]
  },
  {
   "cell_type": "code",
   "execution_count": 92,
   "id": "3d3bad5d",
   "metadata": {},
   "outputs": [
    {
     "name": "stdout",
     "output_type": "stream",
     "text": [
      "55\n"
     ]
    }
   ],
   "source": [
    "def recur_fibo(n):\n",
    "   if n <= 1:\n",
    "       return n\n",
    "   else:\n",
    "       return(recur_fibo(n-1) + recur_fibo(n-2))\n",
    "print(recur_fibo(10))"
   ]
  },
  {
   "cell_type": "code",
   "execution_count": null,
   "id": "5c363e06",
   "metadata": {},
   "outputs": [],
   "source": []
  }
 ],
 "metadata": {
  "kernelspec": {
   "display_name": "Python 3 (ipykernel)",
   "language": "python",
   "name": "python3"
  },
  "language_info": {
   "codemirror_mode": {
    "name": "ipython",
    "version": 3
   },
   "file_extension": ".py",
   "mimetype": "text/x-python",
   "name": "python",
   "nbconvert_exporter": "python",
   "pygments_lexer": "ipython3",
   "version": "3.9.10"
  }
 },
 "nbformat": 4,
 "nbformat_minor": 5
}
