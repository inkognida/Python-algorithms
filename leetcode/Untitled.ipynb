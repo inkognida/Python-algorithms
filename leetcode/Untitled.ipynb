{
 "cells": [
  {
   "cell_type": "code",
   "execution_count": 126,
   "id": "386ffe56",
   "metadata": {},
   "outputs": [
    {
     "name": "stdout",
     "output_type": "stream",
     "text": [
      "[[2], [0], [1]] [False, False, False] defaultdict(<class 'bool'>, {})\n",
      "[[2], [0], [1]] [False, False, False] 0 defaultdict(<class 'bool'>, {})\n",
      "[[2], [0], [1]] [False, False, False] 2 defaultdict(<class 'bool'>, {0: True})\n",
      "[[2], [0], [1]] [False, False, False] 1 defaultdict(<class 'bool'>, {0: True, 2: True})\n",
      "[[2], [0], [1]] [False, False, False] 0 defaultdict(<class 'bool'>, {0: True, 2: True, 1: True})\n"
     ]
    },
    {
     "data": {
      "text/plain": [
       "False"
      ]
     },
     "execution_count": 126,
     "metadata": {},
     "output_type": "execute_result"
    }
   ],
   "source": [
    "# 207 Course shedule\n",
    "from collections import defaultdict\n",
    "from typing import List\n",
    "class Solution1:\n",
    "    \n",
    "    def dfs(self, val: int, m):\n",
    "        if val in m[val]:\n",
    "            return False\n",
    "        for v in m[val]:\n",
    "            self.dfs(self, v, m)\n",
    "    \n",
    "    def canFinish(self, numCourses: int, prerequisites: List[List[int]]) -> bool:\n",
    "        m = defaultdict(bool)\n",
    "        print(prerequisites)\n",
    "        for pair in prerequisites:\n",
    "            if pair[1] in m:\n",
    "                m[pair[1]].append(pair[0])\n",
    "            else:\n",
    "                m[pair[1]] = [pair[0]]                \n",
    "                if self.dfs(self, pair[1], m) == False:\n",
    "                    return False\n",
    "\n",
    "        \n",
    "        return True\n",
    "    \n",
    "class Solution:\n",
    "    def canFinish(self, numCourses: int, prerequisites: List[List[int]]) -> bool:\n",
    "        courseGraph = [[] for _ in range(numCourses)]\n",
    "        for ai, bi in prerequisites:\n",
    "            courseGraph[ai].append(bi)            \n",
    "            \n",
    "        visited = [False] * numCourses\n",
    "                \n",
    "        stack = defaultdict(bool)\n",
    "        \n",
    "    \n",
    "        for c in range(numCourses):\n",
    "            print(courseGraph, visited,stack)      \n",
    "            if not self.process(self, c, courseGraph, visited, stack):\n",
    "                return False\n",
    "        return True\n",
    "    \n",
    "    def process(self, c, courseGraph, visited, stack):\n",
    "        print(courseGraph, visited,c, stack)\n",
    "        \n",
    "        if stack[c]:            # if present in running stack, it's a cycle\n",
    "            return False\n",
    "        stack[c] = True # add to running stack\n",
    "        \n",
    "        for prereq in courseGraph[c]:\n",
    "            if visited[prereq] == True:    # if this pre-req is already visited True, then it was fully processed in the past and no cycle going down this path, so we can skip now.\n",
    "                continue\n",
    "            if not self.process(self, prereq, courseGraph, visited, stack):\n",
    "                return False\n",
    "        stack[c] = False        # remove from running stack\n",
    "        visited[c] = True       # mark it visited True when it is fully processed\n",
    "        return True\n",
    "    \n",
    "a = Solution\n",
    "a.canFinish(a, 3, [[1,0],[0,2],[2,1]])"
   ]
  },
  {
   "cell_type": "code",
   "execution_count": 155,
   "id": "82f394f5",
   "metadata": {},
   "outputs": [
    {
     "name": "stdout",
     "output_type": "stream",
     "text": [
      "[]\n",
      "[]\n",
      "[]\n",
      "[]\n",
      "0\n",
      "[]\n",
      "[]\n",
      "[]\n",
      "[]\n",
      "[]\n",
      "[]\n",
      "[]\n",
      "[]\n",
      "[]\n",
      "[]\n",
      "[]\n",
      "0\n",
      "[]\n",
      "[]\n",
      "[]\n",
      "[]\n",
      "[]\n",
      "[]\n",
      "[]\n",
      "0\n"
     ]
    }
   ],
   "source": [
    "# 209\n",
    "class Solution:\n",
    "    def minSubArrayLen(self, target: int, nums: List[int]) -> int:\n",
    "        j = 0\n",
    "        for i in range(target):\n",
    "            print(nums[j:i])\n",
    "            if sum(nums[j:i]) >= target:\n",
    "                return len(nums[j:i])\n",
    "            else:\n",
    "                j += i                          \n",
    "        return 0\n",
    "# 5 1,1,1,1,1\n",
    "# 8 1,4,4,4,1,1,6,1,1\n",
    "# find subarray of len two, with maximum sum \n",
    "b = Solution\n",
    "print(b.minSubArrayLen(b, 4, [1,4,4]))\n",
    "print(b.minSubArrayLen(b, target = 11, nums = [1,1,1,1,1,1,1,1]))\n",
    "print(b.minSubArrayLen(b, target = 7, nums = [2,3,1,2,4,3]))\n"
   ]
  },
  {
   "cell_type": "code",
   "execution_count": 6,
   "id": "6570c7fe",
   "metadata": {},
   "outputs": [
    {
     "data": {
      "text/plain": [
       "3"
      ]
     },
     "execution_count": 6,
     "metadata": {},
     "output_type": "execute_result"
    }
   ],
   "source": [
    "def min_subarray_len(nums, target):\n",
    "    left = 0\n",
    "    right = 0\n",
    "    s = 0\n",
    "    min_length = len(nums) #local maximum\n",
    "    \n",
    "    if sum(nums) < target:\n",
    "        return 0\n",
    "    \n",
    "\n",
    "    while right < len(nums):\n",
    "        s += nums[right] #\n",
    "        while s >= target:\n",
    "            min_length = min(min_length, right - left + 1)\n",
    "            s -= nums[left]\n",
    "            left += 1\n",
    "\n",
    "        right += 1\n",
    "\n",
    "    return 0 if min_length == len(nums) + 1 else min_length\n",
    "\n",
    "min_subarray_len([2,3,1,2,4,3],7)"
   ]
  },
  {
   "cell_type": "code",
   "execution_count": null,
   "id": "b0276664",
   "metadata": {},
   "outputs": [],
   "source": []
  }
 ],
 "metadata": {
  "kernelspec": {
   "display_name": "Python 3 (ipykernel)",
   "language": "python",
   "name": "python3"
  },
  "language_info": {
   "codemirror_mode": {
    "name": "ipython",
    "version": 3
   },
   "file_extension": ".py",
   "mimetype": "text/x-python",
   "name": "python",
   "nbconvert_exporter": "python",
   "pygments_lexer": "ipython3",
   "version": "3.8.9"
  }
 },
 "nbformat": 4,
 "nbformat_minor": 5
}
