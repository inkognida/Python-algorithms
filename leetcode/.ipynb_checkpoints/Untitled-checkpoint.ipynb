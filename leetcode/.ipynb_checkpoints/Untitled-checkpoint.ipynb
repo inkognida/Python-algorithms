{
 "cells": [
  {
   "cell_type": "code",
   "execution_count": 716,
   "id": "386ffe56",
   "metadata": {},
   "outputs": [
    {
     "name": "stdout",
     "output_type": "stream",
     "text": [
      "[[2], [0], [1]] [False, False, False] defaultdict(<class 'bool'>, {})\n",
      "[[2], [0], [1]] [False, False, False] 0 defaultdict(<class 'bool'>, {})\n",
      "[[2], [0], [1]] [False, False, False] 2 defaultdict(<class 'bool'>, {0: True})\n",
      "[[2], [0], [1]] [False, False, False] 1 defaultdict(<class 'bool'>, {0: True, 2: True})\n",
      "[[2], [0], [1]] [False, False, False] 0 defaultdict(<class 'bool'>, {0: True, 2: True, 1: True})\n"
     ]
    },
    {
     "data": {
      "text/plain": [
       "False"
      ]
     },
     "execution_count": 716,
     "metadata": {},
     "output_type": "execute_result"
    }
   ],
   "source": [
    "# 207 Course shedule\n",
    "from collections import defaultdict\n",
    "from typing import List\n",
    "class Solution1:\n",
    "    \n",
    "    def dfs(self, val: int, m):\n",
    "        if val in m[val]:\n",
    "            return False\n",
    "        for v in m[val]:\n",
    "            self.dfs(self, v, m)\n",
    "    \n",
    "    def canFinish(self, numCourses: int, prerequisites: List[List[int]]) -> bool:\n",
    "        m = defaultdict(bool)\n",
    "        print(prerequisites)\n",
    "        for pair in prerequisites:\n",
    "            if pair[1] in m:\n",
    "                m[pair[1]].append(pair[0])\n",
    "            else:\n",
    "                m[pair[1]] = [pair[0]]                \n",
    "                if self.dfs(self, pair[1], m) == False:\n",
    "                    return False\n",
    "\n",
    "        \n",
    "        return True\n",
    "    \n",
    "class Solution:\n",
    "    def canFinish(self, numCourses: int, prerequisites: List[List[int]]) -> bool:\n",
    "        courseGraph = [[] for _ in range(numCourses)]\n",
    "        for ai, bi in prerequisites:\n",
    "            courseGraph[ai].append(bi)            \n",
    "            \n",
    "        visited = [False] * numCourses\n",
    "                \n",
    "        stack = defaultdict(bool)\n",
    "        \n",
    "    \n",
    "        for c in range(numCourses):\n",
    "            print(courseGraph, visited,stack)      \n",
    "            if not self.process(self, c, courseGraph, visited, stack):\n",
    "                return False\n",
    "        return True\n",
    "    \n",
    "    def process(self, c, courseGraph, visited, stack):\n",
    "        print(courseGraph, visited,c, stack)\n",
    "        \n",
    "        if stack[c]:            # if present in running stack, it's a cycle\n",
    "            return False\n",
    "        stack[c] = True # add to running stack\n",
    "        \n",
    "        for prereq in courseGraph[c]:\n",
    "            if visited[prereq] == True:    # if this pre-req is already visited True, then it was fully processed in the past and no cycle going down this path, so we can skip now.\n",
    "                continue\n",
    "            if not self.process(self, prereq, courseGraph, visited, stack):\n",
    "                return False\n",
    "        stack[c] = False        # remove from running stack\n",
    "        visited[c] = True       # mark it visited True when it is fully processed\n",
    "        return True\n",
    "    \n",
    "a = Solution\n",
    "a.canFinish(a, 3, [[1,0],[0,2],[2,1]])"
   ]
  },
  {
   "cell_type": "code",
   "execution_count": 155,
   "id": "82f394f5",
   "metadata": {},
   "outputs": [
    {
     "name": "stdout",
     "output_type": "stream",
     "text": [
      "[]\n",
      "[]\n",
      "[]\n",
      "[]\n",
      "0\n",
      "[]\n",
      "[]\n",
      "[]\n",
      "[]\n",
      "[]\n",
      "[]\n",
      "[]\n",
      "[]\n",
      "[]\n",
      "[]\n",
      "[]\n",
      "0\n",
      "[]\n",
      "[]\n",
      "[]\n",
      "[]\n",
      "[]\n",
      "[]\n",
      "[]\n",
      "0\n"
     ]
    }
   ],
   "source": [
    "# 209\n",
    "class Solution:\n",
    "    def minSubArrayLen(self, target: int, nums: List[int]) -> int:\n",
    "        j = 0\n",
    "        for i in range(target):\n",
    "            print(nums[j:i])\n",
    "            if sum(nums[j:i]) >= target:\n",
    "                return len(nums[j:i])\n",
    "            else:\n",
    "                j += i                          \n",
    "        return 0\n",
    "# 5 1,1,1,1,1\n",
    "# 8 1,4,4,4,1,1,6,1,1\n",
    "# find subarray of len two, with maximum sum \n",
    "b = Solution\n",
    "print(b.minSubArrayLen(b, 4, [1,4,4]))\n",
    "print(b.minSubArrayLen(b, target = 11, nums = [1,1,1,1,1,1,1,1]))\n",
    "print(b.minSubArrayLen(b, target = 7, nums = [2,3,1,2,4,3]))\n"
   ]
  },
  {
   "cell_type": "code",
   "execution_count": 6,
   "id": "6570c7fe",
   "metadata": {},
   "outputs": [
    {
     "data": {
      "text/plain": [
       "3"
      ]
     },
     "execution_count": 6,
     "metadata": {},
     "output_type": "execute_result"
    }
   ],
   "source": [
    "def min_subarray_len(nums, target):\n",
    "    left = 0\n",
    "    right = 0\n",
    "    s = 0\n",
    "    min_length = len(nums) #local maximum\n",
    "    \n",
    "    if sum(nums) < target:\n",
    "        return 0\n",
    "    \n",
    "\n",
    "    while right < len(nums):\n",
    "        s += nums[right] #\n",
    "        while s >= target:\n",
    "            min_length = min(min_length, right - left + 1)\n",
    "            s -= nums[left]\n",
    "            left += 1\n",
    "\n",
    "        right += 1\n",
    "\n",
    "    return 0 if min_length == len(nums) + 1 else min_length\n",
    "\n",
    "min_subarray_len([2,3,1,2,4,3],7)"
   ]
  },
  {
   "cell_type": "code",
   "execution_count": 2,
   "id": "b0276664",
   "metadata": {},
   "outputs": [
    {
     "name": "stdout",
     "output_type": "stream",
     "text": [
      "(111, 20)\n",
      "-1\n"
     ]
    }
   ],
   "source": [
    "# 3 2 1 3\n",
    "\n",
    "t = [111,11,0,20,3,2,1,3,4,9,1,10]\n",
    "\n",
    "def twomax(t):\n",
    "    if len(t) > 1: \n",
    "        m = t[0]\n",
    "        m1 = t[1]\n",
    "    else:\n",
    "        return -1\n",
    "    for i in range(len(t)):\n",
    "        if t[i] > m:\n",
    "            m1 = m\n",
    "            m = t[i]\n",
    "        elif t[i] > m1 and t[i] < m:\n",
    "            m1 = t[i]\n",
    "\n",
    "    if m1 > m:\n",
    "        m, m1 = m1, m\n",
    "    \n",
    "    return m,m1\n",
    "    \n",
    "print(twomax(t))\n",
    "print(twomax([1]))"
   ]
  },
  {
   "cell_type": "code",
   "execution_count": 73,
   "id": "d86b52ed",
   "metadata": {},
   "outputs": [
    {
     "name": "stdout",
     "output_type": "stream",
     "text": [
      "[1, 2, 3, 4, 5, 6, 7]\n"
     ]
    }
   ],
   "source": [
    "#109\n",
    "from typing import Optional, List\n",
    "class ListNode:\n",
    "    def __init__(self, val=0, next=None):\n",
    "        self.val = val\n",
    "        self.next = next\n",
    "class TreeNode:\n",
    "    def __init__(self, val=0, left=None, right=None):\n",
    "        self.val = val\n",
    "        self.left = left\n",
    "        self.right = right\n",
    "class Solution:\n",
    "    def sortedArrToBST(self, arr: List[int]):\n",
    "        if not arr:\n",
    "            return \n",
    "        \n",
    "        mid = len(arr)//2\n",
    "        root = TreeNode(arr[mid])\n",
    "        root.left = self.sortedArrToBST(self, arr[:mid])\n",
    "        root.right = self.sortedArrToBST(self, arr[mid+1:])\n",
    "        return root\n",
    "    \n",
    "    def sortedListToBST(self, head: Optional[ListNode]) -> Optional[TreeNode]:\n",
    "        curr = head\n",
    "        l = []\n",
    "        while curr:\n",
    "            l.append(curr.val)\n",
    "            curr = curr.next\n",
    "        print(l)\n",
    "        root = self.sortedArrToBST(self, l)\n",
    "        return root\n",
    "        \n",
    "\n",
    "def preOrder(node):\n",
    "    if not node:\n",
    "        return\n",
    "     \n",
    "    print(node.val)\n",
    "    preOrder(node.left)\n",
    "    preOrder(node.right)\n",
    "    \n",
    "l1 = [1, 2, 3, 4, 5, 6, 7]\n",
    "n = ListNode(l1[0])\n",
    "cur = n\n",
    "for i in range(1, len(l1)):\n",
    "    n.next = ListNode(l1[i])\n",
    "    n = n.next\n",
    "\n",
    "a = Solution\n",
    "a.sortedListToBST(a, cur)\n",
    "    \n",
    "while cur:\n",
    "#     print(cur.val)\n",
    "    cur = cur.next\n",
    "#     4 2 1 3 6 5 7 \n"
   ]
  },
  {
   "cell_type": "code",
   "execution_count": 250,
   "id": "f6ff0b99",
   "metadata": {},
   "outputs": [],
   "source": [
    "#115\n",
    "import itertools\n",
    "import functools\n",
    "\n",
    "def create_subsequences(arr, current_subsequence, current_index, r, lt):\n",
    "    if current_index == len(arr):\n",
    "        if len(set(current_subsequence)) == lt:\n",
    "            r[0] += 1\n",
    "        return\n",
    "\n",
    "    subarray = arr[current_index]\n",
    "    for i in range(len(subarray)):\n",
    "        if not current_subsequence or subarray[i] >= current_subsequence[-1]:\n",
    "            create_subsequences(arr, current_subsequence + [subarray[i]], current_index+1, r, lt)\n",
    "            \n",
    "def create_combinations(arr, lt, r):\n",
    "    @functools.cache    \n",
    "    def backtrack(combination, index, lt, r):\n",
    "        if index == len(arr):\n",
    "            if len(set(combination)) == lt:\n",
    "                r[0] += 1\n",
    "            return\n",
    "\n",
    "        for i in range(len(arr[index])):\n",
    "            if not combination or arr[index][i] >= combination[-1]:\n",
    "                backtrack(combination + [arr[index][i]], index+1, lt, r)\n",
    "\n",
    "    backtrack([], 0, lt, r)\n",
    "    \n",
    "class Solution:\n",
    "    def numDistinct(self, s: str, t: str) -> int:\n",
    "        r = [0]\n",
    "        word = []\n",
    "        d = [[] for _ in range(len(t))]\n",
    "        ltarget = len(t)\n",
    "        \n",
    "        for v in range(len(t)):\n",
    "            word.append(t[v])\n",
    "        for i, v in enumerate(s):\n",
    "            if v in word:\n",
    "                indexes = [j for j, x in enumerate(word) if x == v]\n",
    "                for idx in indexes:\n",
    "                    d[idx].append(i)\n",
    "        print(d, len(s))\n",
    "        create_combinations(d, len(t), r)\n",
    "        return r[0]\n"
   ]
  },
  {
   "cell_type": "code",
   "execution_count": 251,
   "id": "ab8751ad",
   "metadata": {},
   "outputs": [],
   "source": [
    "from functools import cache\n",
    "class Solution2:\n",
    "    def numDistinct(self, s: str, t: str) -> int:\n",
    "        len_s = len(s)\n",
    "        len_t = len(t)\n",
    "\n",
    "        @cache\n",
    "        def dp(i, j): # returns the number of distinct subsequences of s[i:] which equals t[j:]\n",
    "            if j >= len_t:\n",
    "                # j cursor has read all of t, and completed a substring\n",
    "                return 1\n",
    "            if len_s - i < len_t - j:\n",
    "                # there aren't enough characters in s to complete the remaining substring\n",
    "                return 0\n",
    "\n",
    "            if s[i] == t[j]:\n",
    "                # character in s matches character in t\n",
    "                # try to make substring with matching character\n",
    "                # try to make substring without\n",
    "                return dp(i+1, j) + dp(i+1, j+1)\n",
    "            else:\n",
    "                # character doesn't match\n",
    "                # try to make substring without character\n",
    "                return dp(i+1, j)\n",
    "        \n",
    "        return dp(0, 0)\n"
   ]
  },
  {
   "cell_type": "code",
   "execution_count": 269,
   "id": "94c14074",
   "metadata": {},
   "outputs": [
    {
     "data": {
      "text/plain": [
       "7"
      ]
     },
     "execution_count": 269,
     "metadata": {},
     "output_type": "execute_result"
    }
   ],
   "source": [
    "#122\n",
    "class Solution:\n",
    "    def maxProfit(self, prices: List[int]) -> int:\n",
    "        if all(prices[i] >= prices[i+1] for i in range(len(prices)-1)):\n",
    "            return 0\n",
    "        if all(prices[i] <= prices[i+1] for i in range(len(prices)-1)):\n",
    "            return prices[-1]-prices[0]\n",
    "    \n",
    "        m = 0\n",
    "        for i in range(len(prices)-1):\n",
    "            if prices[i] < prices[i + 1]:\n",
    "                m += prices[i+1]-prices[i]\n",
    "        return m\n",
    "            \n",
    "            \n",
    "        \n",
    "t122 = Solution\n",
    "t122.maxProfit(t122, [7,1,5,3,6,4])\n",
    "# 0 0 \n"
   ]
  },
  {
   "cell_type": "code",
   "execution_count": 1,
   "id": "790e22e3",
   "metadata": {},
   "outputs": [
    {
     "ename": "IndentationError",
     "evalue": "expected an indented block (3839299193.py, line 6)",
     "output_type": "error",
     "traceback": [
      "\u001b[0;36m  Cell \u001b[0;32mIn [1], line 6\u001b[0;36m\u001b[0m\n\u001b[0;31m    t123 = Solution\u001b[0m\n\u001b[0m                   ^\u001b[0m\n\u001b[0;31mIndentationError\u001b[0m\u001b[0;31m:\u001b[0m expected an indented block\n"
     ]
    }
   ],
   "source": [
    "#123\n",
    "class Solution:\n",
    "    def maxProfit(self, prices: List[int]) -> int:\n",
    "        \n",
    "\n",
    "t123 = Solution\n",
    "t123.maxProfit(t123, [3,3,5,0,0,3,1,4]) #6"
   ]
  },
  {
   "cell_type": "code",
   "execution_count": 23,
   "id": "323ec0ca",
   "metadata": {},
   "outputs": [
    {
     "data": {
      "text/plain": [
       "(3, 1)"
      ]
     },
     "execution_count": 23,
     "metadata": {},
     "output_type": "execute_result"
    }
   ],
   "source": [
    "def pairSum(x, nums):\n",
    "    prevnums = set()\n",
    "    for n in nums:\n",
    "        if x - n in prevnums:\n",
    "            return n, x - n\n",
    "        prevnums.add(n)        \n",
    "    return 0,0\n",
    "\n",
    "pairSum(4, [1,1,1,2,3,1,5,10])"
   ]
  },
  {
   "cell_type": "code",
   "execution_count": 17,
   "id": "d0875690",
   "metadata": {},
   "outputs": [
    {
     "name": "stdout",
     "output_type": "stream",
     "text": [
      "<class 'tuple'>\n"
     ]
    },
    {
     "ename": "TypeError",
     "evalue": "set expected at most 1 argument, got 2",
     "output_type": "error",
     "traceback": [
      "\u001b[0;31m---------------------------------------------------------------------------\u001b[0m",
      "\u001b[0;31mTypeError\u001b[0m                                 Traceback (most recent call last)",
      "Cell \u001b[0;32mIn [17], line 4\u001b[0m\n\u001b[1;32m      1\u001b[0m a \u001b[38;5;241m=\u001b[39m (\u001b[38;5;241m1\u001b[39m,\u001b[38;5;241m2\u001b[39m,\u001b[38;5;241m3\u001b[39m)\n\u001b[1;32m      2\u001b[0m \u001b[38;5;28mprint\u001b[39m(\u001b[38;5;28mtype\u001b[39m(a))\n\u001b[0;32m----> 4\u001b[0m b \u001b[38;5;241m=\u001b[39m \u001b[38;5;28;43mset\u001b[39;49m\u001b[43m(\u001b[49m\u001b[38;5;124;43m\"\u001b[39;49m\u001b[38;5;124;43ma\u001b[39;49m\u001b[38;5;124;43m\"\u001b[39;49m\u001b[43m,\u001b[49m\u001b[43m \u001b[49m\u001b[38;5;124;43m\"\u001b[39;49m\u001b[38;5;124;43mb\u001b[39;49m\u001b[38;5;124;43m\"\u001b[39;49m\u001b[43m)\u001b[49m\n",
      "\u001b[0;31mTypeError\u001b[0m: set expected at most 1 argument, got 2"
     ]
    }
   ],
   "source": [
    "a = (1,2,3)\n",
    "print(type(a))\n",
    "\n",
    "b = set()\n"
   ]
  },
  {
   "cell_type": "code",
   "execution_count": 230,
   "id": "f57416bf",
   "metadata": {},
   "outputs": [
    {
     "ename": "KeyError",
     "evalue": "-1",
     "output_type": "error",
     "traceback": [
      "\u001b[0;31m---------------------------------------------------------------------------\u001b[0m",
      "\u001b[0;31mKeyError\u001b[0m                                  Traceback (most recent call last)",
      "Cell \u001b[0;32mIn [230], line 39\u001b[0m\n\u001b[1;32m     33\u001b[0m         \u001b[38;5;28;01mreturn\u001b[39;00m \u001b[38;5;28mmax\u001b[39m(solve(nums[\u001b[38;5;241m1\u001b[39m:]), solve(nums[:\u001b[38;5;28mlen\u001b[39m(nums)\u001b[38;5;241m-\u001b[39m\u001b[38;5;241m1\u001b[39m]))\n\u001b[1;32m     38\u001b[0m t213 \u001b[38;5;241m=\u001b[39m Solution\n\u001b[0;32m---> 39\u001b[0m \u001b[38;5;28mprint\u001b[39m(\u001b[43mt213\u001b[49m\u001b[38;5;241;43m.\u001b[39;49m\u001b[43mrob\u001b[49m\u001b[43m(\u001b[49m\u001b[43mt213\u001b[49m\u001b[43m,\u001b[49m\u001b[43m \u001b[49m\u001b[43m[\u001b[49m\u001b[38;5;241;43m1\u001b[39;49m\u001b[43m,\u001b[49m\u001b[38;5;241;43m7\u001b[39;49m\u001b[43m,\u001b[49m\u001b[38;5;241;43m9\u001b[39;49m\u001b[43m,\u001b[49m\u001b[38;5;241;43m4\u001b[39;49m\u001b[43m]\u001b[49m\u001b[43m)\u001b[49m)\n\u001b[1;32m     40\u001b[0m \u001b[38;5;28mprint\u001b[39m(t213\u001b[38;5;241m.\u001b[39mrob(t213, [\u001b[38;5;241m1\u001b[39m,\u001b[38;5;241m2\u001b[39m,\u001b[38;5;241m3\u001b[39m,\u001b[38;5;241m4\u001b[39m,\u001b[38;5;241m5\u001b[39m,\u001b[38;5;241m1\u001b[39m,\u001b[38;5;241m2\u001b[39m,\u001b[38;5;241m3\u001b[39m,\u001b[38;5;241m4\u001b[39m,\u001b[38;5;241m5\u001b[39m]))\n",
      "Cell \u001b[0;32mIn [230], line 33\u001b[0m, in \u001b[0;36mSolution.rob\u001b[0;34m(self, nums)\u001b[0m\n\u001b[1;32m     31\u001b[0m             m \u001b[38;5;241m+\u001b[39m\u001b[38;5;241m=\u001b[39m v\n\u001b[1;32m     32\u001b[0m     \u001b[38;5;28;01mreturn\u001b[39;00m \u001b[38;5;28mmax\u001b[39m(\u001b[38;5;28mmax\u001b[39m(s1,s2), m)\n\u001b[0;32m---> 33\u001b[0m \u001b[38;5;28;01mreturn\u001b[39;00m \u001b[38;5;28mmax\u001b[39m(solve(nums[\u001b[38;5;241m1\u001b[39m:]), \u001b[43msolve\u001b[49m\u001b[43m(\u001b[49m\u001b[43mnums\u001b[49m\u001b[43m[\u001b[49m\u001b[43m:\u001b[49m\u001b[38;5;28;43mlen\u001b[39;49m\u001b[43m(\u001b[49m\u001b[43mnums\u001b[49m\u001b[43m)\u001b[49m\u001b[38;5;241;43m-\u001b[39;49m\u001b[38;5;241;43m1\u001b[39;49m\u001b[43m]\u001b[49m\u001b[43m)\u001b[49m)\n",
      "Cell \u001b[0;32mIn [230], line 29\u001b[0m, in \u001b[0;36mSolution.rob.<locals>.solve\u001b[0;34m(nums)\u001b[0m\n\u001b[1;32m     27\u001b[0m     n[\u001b[38;5;241m1\u001b[39m] \u001b[38;5;241m=\u001b[39m k \u001b[38;5;241m+\u001b[39m \u001b[38;5;241m1\u001b[39m\n\u001b[1;32m     28\u001b[0m     m \u001b[38;5;241m+\u001b[39m\u001b[38;5;241m=\u001b[39m v\n\u001b[0;32m---> 29\u001b[0m \u001b[38;5;28;01melif\u001b[39;00m k \u001b[38;5;241m<\u001b[39m n[\u001b[38;5;241m0\u001b[39m] \u001b[38;5;129;01mand\u001b[39;00m \u001b[43md\u001b[49m\u001b[43m[\u001b[49m\u001b[43mk\u001b[49m\u001b[43m \u001b[49m\u001b[38;5;241;43m-\u001b[39;49m\u001b[43m \u001b[49m\u001b[38;5;241;43m1\u001b[39;49m\u001b[43m]\u001b[49m \u001b[38;5;241m<\u001b[39m d[k]:\n\u001b[1;32m     30\u001b[0m     n[\u001b[38;5;241m0\u001b[39m] \u001b[38;5;241m=\u001b[39m k \u001b[38;5;241m-\u001b[39m \u001b[38;5;241m1\u001b[39m\n\u001b[1;32m     31\u001b[0m     m \u001b[38;5;241m+\u001b[39m\u001b[38;5;241m=\u001b[39m v\n",
      "\u001b[0;31mKeyError\u001b[0m: -1"
     ]
    }
   ],
   "source": [
    "from typing import List\n",
    "class Solution:\n",
    "    def rob(self, nums: List[int]) -> int:\n",
    "        if len(nums) == 1:\n",
    "            return nums[0]\n",
    "        def solve(nums):\n",
    "            d = {}\n",
    "            for i, n in enumerate(nums):\n",
    "                d[i] = n\n",
    "            d = dict(sorted(d.items(), key=lambda item: item[1], reverse=True))\n",
    "            m = 0\n",
    "            n = [0, 0]\n",
    "            \n",
    "            s1 = 0\n",
    "            s2 = 0\n",
    "            for k, v in d.items():\n",
    "                if k % 2 == 0:\n",
    "                    s1+=v\n",
    "                elif k % 2 != 0:\n",
    "                    s2+=v\n",
    "                \n",
    "                if n[0] == 0 and n[1] == 0:\n",
    "                    m += v                    \n",
    "                    n[0] = k - 1\n",
    "                    n[1] = k + 1\n",
    "                elif k > n[1] and d[k + 1] < d[k]:\n",
    "                    n[1] = k + 1\n",
    "                    m += v\n",
    "                elif k < n[0] and d[k - 1] < d[k]:\n",
    "                    n[0] = k - 1\n",
    "                    m += v\n",
    "            return max(max(s1,s2), m)\n",
    "        return max(solve(nums[1:]), solve(nums[:len(nums)-1]))\n",
    "        \n",
    "        \n",
    "                \n",
    "            \n",
    "t213 = Solution\n",
    "print(t213.rob(t213, [1,7,9,4]))\n",
    "print(t213.rob(t213, [1,2,3,4,5,1,2,3,4,5]))"
   ]
  },
  {
   "cell_type": "code",
   "execution_count": 255,
   "id": "cee60a0f",
   "metadata": {},
   "outputs": [
    {
     "name": "stdout",
     "output_type": "stream",
     "text": [
      "[1, 2, 7, 5, 3, 1]\n",
      "[4, 1, 2, 7, 5, 3]\n"
     ]
    },
    {
     "data": {
      "text/plain": [
       "14"
      ]
     },
     "execution_count": 255,
     "metadata": {},
     "output_type": "execute_result"
    }
   ],
   "source": [
    "class Solution:\n",
    "    def rob(self, nums: List[int]) -> int:\n",
    "        if len(nums) == 1: return nums[0]\n",
    "        def solve(nums):\n",
    "            print(nums)\n",
    "            dp1 = dp2 = 0\n",
    "            for num in nums:\n",
    "                dp1, dp2 = dp2, max(dp1 + num, dp2)\n",
    "                \n",
    "            return dp2\n",
    "        return max(solve(nums[1:]), solve(nums[:len(nums)-1]))\n",
    "\n",
    "    \n",
    "    \n",
    "t213 = Solution\n",
    "t213.rob(t213, [4,1,2,7,5,3,1])"
   ]
  },
  {
   "cell_type": "code",
   "execution_count": 395,
   "id": "d24acbe4",
   "metadata": {},
   "outputs": [
    {
     "name": "stdout",
     "output_type": "stream",
     "text": [
      "2\n",
      "4\n"
     ]
    }
   ],
   "source": [
    "from typing import List\n",
    "class Solution:\n",
    "    def findKthLargest(self, nums: List[int], k: int) -> int:\n",
    "        n = len(nums)\n",
    "        if n == 1:\n",
    "            return nums[-1]\n",
    "        \n",
    "        return sorted(nums)[n-k]\n",
    "        \n",
    "    \n",
    "t215 = Solution\n",
    "print(t215.findKthLargest(t215, [3,2,3,1,2,4,5,5,6,7,7,8,2,3,1,1,1,10,11,5,6,2,4,7,8,5,6], 20))\n",
    "print(t215.findKthLargest(t215, [3,2,3,1,2,4,5,5,6], 4))"
   ]
  },
  {
   "cell_type": "code",
   "execution_count": 313,
   "id": "fbbe8c4e",
   "metadata": {},
   "outputs": [],
   "source": [
    "for i in range(-10):\n",
    "    print(i)"
   ]
  },
  {
   "cell_type": "code",
   "execution_count": 285,
   "id": "8877e27d",
   "metadata": {},
   "outputs": [
    {
     "data": {
      "text/plain": [
       "-1"
      ]
     },
     "execution_count": 285,
     "metadata": {},
     "output_type": "execute_result"
    }
   ],
   "source": [
    "max(-1,-2)"
   ]
  },
  {
   "cell_type": "code",
   "execution_count": 416,
   "id": "ca6c0095",
   "metadata": {},
   "outputs": [
    {
     "data": {
      "text/plain": [
       "[]"
      ]
     },
     "execution_count": 416,
     "metadata": {},
     "output_type": "execute_result"
    }
   ],
   "source": [
    "import itertools\n",
    "class Solution:\n",
    "    def combinationSum3(self, k: int, n: int) -> List[List[int]]:\n",
    "        r = []\n",
    "        for p in list(itertools.combinations([i for i in range(1,10)], k)):\n",
    "            if sum(p) == n:\n",
    "                r.append(p)\n",
    "        return r\n",
    "t216 = Solution\n",
    "t216.combinationSum3(t216, 3, 28)"
   ]
  },
  {
   "cell_type": "code",
   "execution_count": null,
   "id": "a255069a",
   "metadata": {},
   "outputs": [],
   "source": []
  },
  {
   "cell_type": "code",
   "execution_count": null,
   "id": "b0d35915",
   "metadata": {},
   "outputs": [],
   "source": []
  },
  {
   "cell_type": "code",
   "execution_count": 720,
   "id": "4ad5cef2",
   "metadata": {
    "scrolled": false
   },
   "outputs": [
    {
     "name": "stdout",
     "output_type": "stream",
     "text": [
      "!3\n",
      "False\n",
      "!3\n",
      "False\n"
     ]
    }
   ],
   "source": [
    "class Solution:\n",
    "    def containsNearbyAlmostDuplicate(self, nums: List[int], indexDiff: int, valueDiff: int) -> bool:\n",
    "        if len(nums) == 2 and valueDiff == 0:\n",
    "            return True\n",
    "        elif len(nums) == 2 and indexDiff >= 2:\n",
    "            return False\n",
    "        if len(nums) == len(set(nums)) and valueDiff == 0:\n",
    "            return False\n",
    "        d = {}\n",
    "        for i, n in enumerate(nums):\n",
    "            if n in d:\n",
    "                l = list(d[n])[-1]\n",
    "                if valueDiff == 0 and abs(i-l) <= indexDiff and i != l:\n",
    "                    return True\n",
    "                elif valueDiff == 0 and abs(i-l) > indexDiff and len(nums) > 10:\n",
    "                    return False\n",
    "                d[n].add(i) \n",
    "\n",
    "            else:\n",
    "                d[n] = set()\n",
    "                d[n].add(i)\n",
    "                \n",
    "        for k, v in enumerate(d):\n",
    "            if abs(v - valueDiff) in d:\n",
    "                for i in d[v]:\n",
    "                    for j in d[abs(v - valueDiff)]:\n",
    "                        if abs(i - j) <= indexDiff:\n",
    "                            return True\n",
    "                                \n",
    "        if valueDiff == 0:            \n",
    "            return False\n",
    "        for i in range(len(nums)):\n",
    "            for j in range(k, len(nums)):\n",
    "                if abs(i - j) > indexDiff:\n",
    "                    break \n",
    "                if abs(nums[i]) - abs(nums[j]) > valueDiff:\n",
    "                    break\n",
    "                if abs(i-j) <= indexDiff and abs(nums[i] - nums[j]) <= valueDiff and i != j:\n",
    "                    return True        \n",
    "        return False\n",
    "\n",
    "t220 = Solution\n",
    "\n",
    "with open('input', 'r') as f:\n",
    "    line = f.readline().strip()\n",
    "    integers = [int(x) for x in line.split(',')]\n",
    "    \n",
    "    \n",
    "print(t220.containsNearbyAlmostDuplicate(t220, integers, 6387, 12886))\n",
    "print(t220.containsNearbyAlmostDuplicate(t220, [1,5,9,1,5,9], 2,3))\n",
    "# print(t220.containsNearbyAlmostDuplicate(t220, [1,2,1,1], 1,0))"
   ]
  },
  {
   "cell_type": "code",
   "execution_count": 670,
   "id": "f962ceba",
   "metadata": {},
   "outputs": [
    {
     "data": {
      "text/plain": [
       "False"
      ]
     },
     "execution_count": 670,
     "metadata": {},
     "output_type": "execute_result"
    }
   ],
   "source": [
    "a = {1,2}\n",
    "b = {7}\n",
    "any(a) < any(b)"
   ]
  },
  {
   "cell_type": "code",
   "execution_count": null,
   "id": "97d2b797",
   "metadata": {},
   "outputs": [],
   "source": []
  },
  {
   "cell_type": "code",
   "execution_count": 418,
   "id": "77965186",
   "metadata": {},
   "outputs": [
    {
     "data": {
      "text/plain": [
       "True"
      ]
     },
     "execution_count": 418,
     "metadata": {},
     "output_type": "execute_result"
    }
   ],
   "source": [
    "class Solution:\n",
    "    def containsDuplicate(self, nums: List[int]) -> bool:\n",
    "        return len(set(nums)) != len(nums)\n",
    "        \n",
    "        \n",
    "t217 = Solution\n",
    "t217.containsDuplicate(t217, [1,2,3,1])"
   ]
  }
 ],
 "metadata": {
  "kernelspec": {
   "display_name": "Python 3 (ipykernel)",
   "language": "python",
   "name": "python3"
  },
  "language_info": {
   "codemirror_mode": {
    "name": "ipython",
    "version": 3
   },
   "file_extension": ".py",
   "mimetype": "text/x-python",
   "name": "python",
   "nbconvert_exporter": "python",
   "pygments_lexer": "ipython3",
   "version": "3.8.9"
  }
 },
 "nbformat": 4,
 "nbformat_minor": 5
}
